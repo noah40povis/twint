{
 "metadata": {
  "language_info": {
   "codemirror_mode": {
    "name": "ipython",
    "version": 3
   },
   "file_extension": ".py",
   "mimetype": "text/x-python",
   "name": "python",
   "nbconvert_exporter": "python",
   "pygments_lexer": "ipython3",
   "version": "3.8.3-final"
  },
  "orig_nbformat": 2,
  "kernelspec": {
   "name": "python3",
   "display_name": "Python 3",
   "language": "python"
  }
 },
 "nbformat": 4,
 "nbformat_minor": 2,
 "cells": [
  {
   "cell_type": "code",
   "execution_count": 1,
   "metadata": {},
   "outputs": [],
   "source": [
    "import pandas as pd "
   ]
  },
  {
   "cell_type": "code",
   "execution_count": 10,
   "metadata": {},
   "outputs": [
    {
     "output_type": "execute_result",
     "data": {
      "text/plain": [
       "Index(['id', 'conversation_id', 'created_at', 'date', 'time', 'timezone',\n",
       "       'user_id', 'username', 'name', 'place', 'tweet', 'language', 'mentions',\n",
       "       'urls', 'photos', 'replies_count', 'retweets_count', 'likes_count',\n",
       "       'hashtags', 'cashtags', 'link', 'retweet', 'quote_url', 'video',\n",
       "       'thumbnail', 'near', 'geo', 'source', 'user_rt_id', 'user_rt',\n",
       "       'retweet_id', 'reply_to', 'retweet_date', 'translate', 'trans_src',\n",
       "       'trans_dest'],\n",
       "      dtype='object')"
      ]
     },
     "metadata": {},
     "execution_count": 10
    }
   ],
   "source": [
    "datascience = pd.read_csv(\"datascience2.csv\")\n",
    "datascience.columns"
   ]
  },
  {
   "cell_type": "code",
   "execution_count": 19,
   "metadata": {},
   "outputs": [
    {
     "output_type": "execute_result",
     "data": {
      "text/plain": [
       "                    id      conversation_id               created_at  \\\n",
       "5  1336337294534406144  1336331416452308994  2020-12-08 10:50:13 EST   \n",
       "6  1336223016083066881  1336223016083066881  2020-12-08 03:16:07 EST   \n",
       "\n",
       "         date      time  timezone             user_id       username  \\\n",
       "5  2020-12-08  10:50:13      -500            13074042     juliasilge   \n",
       "6  2020-12-08  03:16:07      -500  763384403380867072  dsrecruitspwd   \n",
       "\n",
       "               name  place  ... geo source user_rt_id user_rt retweet_id  \\\n",
       "5       Julia Silge    NaN  ... NaN    NaN        NaN     NaN        NaN   \n",
       "6  DS Career Center    NaN  ... NaN    NaN        NaN     NaN        NaN   \n",
       "\n",
       "                                            reply_to  retweet_date  translate  \\\n",
       "5  [{'screen_name': 'gshotwell', 'name': 'Gordon ...           NaN        NaN   \n",
       "6                                                 []           NaN        NaN   \n",
       "\n",
       "  trans_src trans_dest  \n",
       "5       NaN        NaN  \n",
       "6       NaN        NaN  \n",
       "\n",
       "[2 rows x 36 columns]"
      ],
      "text/html": "<div>\n<style scoped>\n    .dataframe tbody tr th:only-of-type {\n        vertical-align: middle;\n    }\n\n    .dataframe tbody tr th {\n        vertical-align: top;\n    }\n\n    .dataframe thead th {\n        text-align: right;\n    }\n</style>\n<table border=\"1\" class=\"dataframe\">\n  <thead>\n    <tr style=\"text-align: right;\">\n      <th></th>\n      <th>id</th>\n      <th>conversation_id</th>\n      <th>created_at</th>\n      <th>date</th>\n      <th>time</th>\n      <th>timezone</th>\n      <th>user_id</th>\n      <th>username</th>\n      <th>name</th>\n      <th>place</th>\n      <th>...</th>\n      <th>geo</th>\n      <th>source</th>\n      <th>user_rt_id</th>\n      <th>user_rt</th>\n      <th>retweet_id</th>\n      <th>reply_to</th>\n      <th>retweet_date</th>\n      <th>translate</th>\n      <th>trans_src</th>\n      <th>trans_dest</th>\n    </tr>\n  </thead>\n  <tbody>\n    <tr>\n      <th>5</th>\n      <td>1336337294534406144</td>\n      <td>1336331416452308994</td>\n      <td>2020-12-08 10:50:13 EST</td>\n      <td>2020-12-08</td>\n      <td>10:50:13</td>\n      <td>-500</td>\n      <td>13074042</td>\n      <td>juliasilge</td>\n      <td>Julia Silge</td>\n      <td>NaN</td>\n      <td>...</td>\n      <td>NaN</td>\n      <td>NaN</td>\n      <td>NaN</td>\n      <td>NaN</td>\n      <td>NaN</td>\n      <td>[{'screen_name': 'gshotwell', 'name': 'Gordon ...</td>\n      <td>NaN</td>\n      <td>NaN</td>\n      <td>NaN</td>\n      <td>NaN</td>\n    </tr>\n    <tr>\n      <th>6</th>\n      <td>1336223016083066881</td>\n      <td>1336223016083066881</td>\n      <td>2020-12-08 03:16:07 EST</td>\n      <td>2020-12-08</td>\n      <td>03:16:07</td>\n      <td>-500</td>\n      <td>763384403380867072</td>\n      <td>dsrecruitspwd</td>\n      <td>DS Career Center</td>\n      <td>NaN</td>\n      <td>...</td>\n      <td>NaN</td>\n      <td>NaN</td>\n      <td>NaN</td>\n      <td>NaN</td>\n      <td>NaN</td>\n      <td>[]</td>\n      <td>NaN</td>\n      <td>NaN</td>\n      <td>NaN</td>\n      <td>NaN</td>\n    </tr>\n  </tbody>\n</table>\n<p>2 rows × 36 columns</p>\n</div>"
     },
     "metadata": {},
     "execution_count": 19
    }
   ],
   "source": [
    "datascience[datascience['date']== '2020-12-08'] "
   ]
  },
  {
   "cell_type": "code",
   "execution_count": 26,
   "metadata": {},
   "outputs": [
    {
     "output_type": "execute_result",
     "data": {
      "text/plain": [
       "6    https://twitter.com/DSRecruitsPWD/status/1336223016083066881\n",
       "Name: link, dtype: object"
      ]
     },
     "metadata": {},
     "execution_count": 26
    }
   ],
   "source": [
    "pd.set_option('display.max_colwidth', -1)\n",
    "search = datascience['link'][datascience['id'] == 1336223016083066881 ]\n",
    "search"
   ]
  },
  {
   "cell_type": "code",
   "execution_count": null,
   "metadata": {},
   "outputs": [],
   "source": [
    "#Build a scraper that looks for roles in twitter \n",
    "#create unique search queries \n",
    "#generate csv's from it \n",
    "#store it into a pandas dataframe containing only the tweet, author, date, and link \n",
    "#create a website that routinely checks for new posts \n"
   ]
  },
  {
   "cell_type": "code",
   "execution_count": 27,
   "metadata": {},
   "outputs": [
    {
     "output_type": "execute_result",
     "data": {
      "text/plain": [
       "(152, 36)"
      ]
     },
     "metadata": {},
     "execution_count": 27
    }
   ],
   "source": [
    "df3 = pd.read_csv('/Users/noahchristian/Documents/twint/datascience3.csv')\n",
    "df3.shape"
   ]
  },
  {
   "cell_type": "code",
   "execution_count": 28,
   "metadata": {},
   "outputs": [
    {
     "output_type": "execute_result",
     "data": {
      "text/plain": [
       "122    Vehicle financing startup AutoMony raises Series A funding VCCircle ... raised $12 million (around Rs 85.08 crore) in a Series B investment round led ...  https://t.co/RQvIdyc6CS                                                                                                                           \n",
       "135    Wellness apps are a growing trend? NOCD raised $4M Series A last October. Modern Health, a mental health benefits platform, raised $31M in their Series B a few weeks ago. As a sociologist, I’m not convinced that this is how we should address mental health..  https://t.co/WetoBkghlr                   \n",
       "141    This is how you do it  @INDwealthHQ raised till now Series A $ 30 M Series B $15 M Series C  $12 M  Future fund raising plan Series D  $ 5 M Series E  $ 500k  IPO ! Boom ! 👊                                                                                                                                \n",
       "51     Stensul, a startup aiming to streamline the process of building marketing emails, has raised $16 million in Series B funding.  When the company raised its $7 million Series A two years ago, founder and CEO Noah Dinkin told me about how it spun out of his previous startup, Fa…  https://t.co/C997X5h0pi\n",
       "148    #Omnichannel operating system for 12,000+ retail and F&amp;B businesses  https://t.co/Egi529GdUB raised $8.9M Series A #funding round  https://t.co/YFsgHUIM3U                                                                                                                                               \n",
       "Name: tweet, dtype: object"
      ]
     },
     "metadata": {},
     "execution_count": 28
    }
   ],
   "source": [
    "df3['tweet'].sample(5)"
   ]
  },
  {
   "cell_type": "code",
   "execution_count": null,
   "metadata": {},
   "outputs": [],
   "source": []
  }
 ]
}